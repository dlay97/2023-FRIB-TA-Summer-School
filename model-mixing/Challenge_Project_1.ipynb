{
 "cells": [
  {
   "cell_type": "markdown",
   "metadata": {},
   "source": [
    "# Challenge Hands-On Session: Nuclear Masses\n",
    "\n",
    "### Author(s): Alexandra Semposki, Rahul Jain\n",
    "\n",
    "### 26 June 2023"
   ]
  },
  {
   "cell_type": "markdown",
   "metadata": {},
   "source": [
    "Welcome to the challenge problems of the BMM session! You've made it to undiscovered country!\n",
    "\n",
    "Now that you've gained a good level of understanding from the first hands-on notebook, we'll expand to look at the application of Bayesian Model Mixing (BMM) to nuclear masses. Let's first do an import of the masses data and see what it looks like."
   ]
  },
  {
   "cell_type": "code",
   "execution_count": 4,
   "metadata": {},
   "outputs": [],
   "source": [
    "# required imports\n",
    "import numpy as np\n",
    "import matplotlib.pyplot as plt\n",
    "import pandas as pd\n",
    "import matplotlib.ticker as ticker\n",
    "from scipy.stats import norm\n",
    "from scipy.special import gamma\n",
    "import sys\n",
    "import os"
   ]
  },
  {
   "cell_type": "code",
   "execution_count": 5,
   "metadata": {},
   "outputs": [
    {
     "ename": "ModuleNotFoundError",
     "evalue": "No module named 'Taweret'",
     "output_type": "error",
     "traceback": [
      "\u001b[0;31m---------------------------------------------------------------------------\u001b[0m",
      "\u001b[0;31mModuleNotFoundError\u001b[0m                       Traceback (most recent call last)",
      "Cell \u001b[0;32mIn[5], line 7\u001b[0m\n\u001b[1;32m      1\u001b[0m \u001b[39m# import Taweret and Latex if not already done in current codespace\u001b[39;00m\n\u001b[1;32m      2\u001b[0m \u001b[39m#!pip install latex\u001b[39;00m\n\u001b[1;32m      3\u001b[0m \u001b[39m# !git clone https://github.com/asemposki/Taweret.git \u001b[39;00m\n\u001b[1;32m      4\u001b[0m \u001b[39m# !cd Taweret && git checkout develop\u001b[39;00m\n\u001b[1;32m      5\u001b[0m \n\u001b[1;32m      6\u001b[0m \u001b[39m# import from Taweret necessary attributes for part 1\u001b[39;00m\n\u001b[0;32m----> 7\u001b[0m \u001b[39mfrom\u001b[39;00m \u001b[39mTaweret\u001b[39;00m\u001b[39m.\u001b[39;00m\u001b[39mTaweret\u001b[39;00m\u001b[39m.\u001b[39;00m\u001b[39mcore\u001b[39;00m\u001b[39m.\u001b[39;00m\u001b[39mbase_model\u001b[39;00m \u001b[39mimport\u001b[39;00m BaseModel\n\u001b[1;32m      8\u001b[0m \u001b[39mfrom\u001b[39;00m \u001b[39mTaweret\u001b[39;00m\u001b[39m.\u001b[39;00m\u001b[39mTaweret\u001b[39;00m\u001b[39m.\u001b[39;00m\u001b[39mcore\u001b[39;00m\u001b[39m.\u001b[39;00m\u001b[39mbase_mixer\u001b[39;00m \u001b[39mimport\u001b[39;00m BaseMixer\n\u001b[1;32m      9\u001b[0m \u001b[39mfrom\u001b[39;00m \u001b[39mTaweret\u001b[39;00m\u001b[39m.\u001b[39;00m\u001b[39mTaweret\u001b[39;00m\u001b[39m.\u001b[39;00m\u001b[39mmix\u001b[39;00m\u001b[39m.\u001b[39;00m\u001b[39mgaussian\u001b[39;00m \u001b[39mimport\u001b[39;00m Multivariate\n",
      "\u001b[0;31mModuleNotFoundError\u001b[0m: No module named 'Taweret'"
     ]
    }
   ],
   "source": [
    "# import Taweret and Latex if not already done in current codespace\n",
    "#!pip install latex\n",
    "# !git clone https://github.com/asemposki/Taweret.git \n",
    "# !cd Taweret && git checkout develop\n",
    "\n",
    "# import from Taweret necessary attributes for part 1\n",
    "from Taweret.Taweret.core.base_model import BaseModel\n",
    "from Taweret.Taweret.core.base_mixer import BaseMixer\n",
    "from Taweret.Taweret.mix.gaussian import Multivariate"
   ]
  },
  {
   "cell_type": "code",
   "execution_count": null,
   "metadata": {},
   "outputs": [],
   "source": [
    "# define plot function for nuclear masses\n",
    "def plot_nuclear(df,col):\n",
    "    fig = plt.figure()\n",
    "    ax = plt.axes()\n",
    "    fig.patch.set_facecolor('white')\n",
    "    fig.set_dpi(150)\n",
    "    s = ax.scatter(df['N'], df['Z'], c=df[col],marker='s',label=col+('  (B.E. in MeV)'))\n",
    "    ax.set_xlabel('N (neutrons)')\n",
    "    ax.set_ylabel('Z (protons)')\n",
    "    ax.legend()\n",
    "    fig.colorbar(s, ax=ax)\n",
    "    plt.show()"
   ]
  },
  {
   "cell_type": "markdown",
   "metadata": {},
   "source": [
    "## Exploring nuclear mass data"
   ]
  },
  {
   "cell_type": "code",
   "execution_count": null,
   "metadata": {},
   "outputs": [],
   "source": [
    "# import nuclear masses from csv file\n",
    "df = pd.read_csv('BMM_Masses.csv')\n",
    "display(df)"
   ]
  },
  {
   "cell_type": "markdown",
   "metadata": {},
   "source": [
    "OK, great! So how do we interpret the data we just imported? \n",
    "\n",
    "Check out the column headers; the __Z__ and __N__ columns indicate the number of protons and neutrons, respectively, in a given nucleus. The four other categories are averages over sets of models that can be described by the types of methods they use---for example, __Skyrme__ uses the Skyrme energy density functional. \n",
    "\n",
    "If you're very curious about the forms of these models individually, check out the reference list below.\n",
    "\n",
    "- Skyrme: Density Functional Theory models based on Skyrme Energy Density Functional\n",
    "    - SkM* - https://www.sciencedirect.com/science/article/pii/0375947482904031?via%3Dihub\n",
    "    - SkP - https://www.sciencedirect.com/science/article/pii/0375947484904330?via%3Dihub\n",
    "    - SLy4 - https://iopscience.iop.org/article/10.1088/0031-8949/1995/T56/034\n",
    "    - SV-min - https://journals.aps.org/prc/abstract/10.1103/PhysRevC.79.034310\n",
    "\n",
    "\n",
    "- UNEDF: Density Functional Theory models also based on Skyrme Energy Density Functional\n",
    "    - UNEDF0 - https://journals.aps.org/prc/abstract/10.1103/PhysRevC.82.024313\n",
    "    - UNEDF1 - https://journals.aps.org/prc/abstract/10.1103/PhysRevC.85.024304\n",
    "    - UNEDF2 - https://journals.aps.org/prc/abstract/10.1103/PhysRevC.89.054314\n",
    "\n",
    "\n",
    "- Gogny: Density Functional Theory models based on Gogny Energy Density Functional\n",
    "    - BCPM - https://journals.aps.org/prc/abstract/10.1103/PhysRevC.87.064305\n",
    "    - D1M - https://journals.aps.org/prl/abstract/10.1103/PhysRevLett.102.242501\n",
    "\n",
    "\n",
    "- Astro: More phenomenological mass models commonly used in nuclear astrophysics\n",
    "    - FRDM2012 - https://www.sciencedirect.com/science/article/pii/S0092640X1600005X?via%3Dihub\n",
    "    - HFB24 - https://journals.aps.org/prc/abstract/10.1103/PhysRevC.88.024308\n",
    "    \n",
    "    \n",
    "Now we will plot one of the models over the nuclear chart, along with its uncertainties. These were assigned by averaging the individual model uncertainties within each of the groups of models above. The variable we're plotting in is the __binding energy__ in MeV (abbreviated B.E. in the plot legend). "
   ]
  },
  {
   "cell_type": "code",
   "execution_count": null,
   "metadata": {},
   "outputs": [],
   "source": [
    "plot_nuclear(df,'Skyrme')"
   ]
  },
  {
   "cell_type": "code",
   "execution_count": null,
   "metadata": {},
   "outputs": [],
   "source": [
    "plot_nuclear(df,'Skyrme_sd')"
   ]
  },
  {
   "cell_type": "markdown",
   "metadata": {},
   "source": [
    "__Question__: You can see that the binding energy uncertainties above are very small for the line passing diagonally through the center of the nuclear chart band. Can you guess why that might be happening?"
   ]
  },
  {
   "cell_type": "markdown",
   "metadata": {},
   "source": [
    "---"
   ]
  },
  {
   "cell_type": "markdown",
   "metadata": {},
   "source": [
    "# Challenge Project I: Multivariate BMM in 1-dimension: Investigating Isotopes\n",
    "\n",
    "## Introduction\n",
    "\n",
    "Now that we know how to pull in our data and plot it, we're curious about what it's telling us about the nuclei it pertains to. \n",
    "\n",
    "Say we are interested in understanding which models work best for a slice of the input space---in our case, we want to study one element and all of its modelled isotopes. We'll fix a proton number, $Z$, and pull the data sets for every nucleus that has that specific $Z$. Each of the four mass models we have access to in the dataframe above have predictions and uncertainties for all nuclei considered, so we can pick any of the possibilities from the dataframe. \n",
    "\n",
    "Let's start with lead (Pb, $Z$=82). __You can change this yourselves later and study other values of $Z$!__"
   ]
  },
  {
   "cell_type": "code",
   "execution_count": null,
   "metadata": {},
   "outputs": [],
   "source": [
    "# pick Z = 82 and consider neutrons as the input space\n",
    "df_82 = df.loc[df['Z'] == 82].copy()\n",
    "display(df_82)"
   ]
  },
  {
   "cell_type": "markdown",
   "metadata": {},
   "source": [
    "Now we can plot the model values vs. the neutron number in a one-dimensional input space sense."
   ]
  },
  {
   "cell_type": "code",
   "execution_count": null,
   "metadata": {},
   "outputs": [],
   "source": [
    "# plot the models \n",
    "fig, ax = plt.subplots(figsize=(8,6), dpi=150)\n",
    "for i in ['Skyrme', 'UNEDF', 'Gogny', 'Astro']:\n",
    "    ax.plot(df_82['N'], df_82[i], label=i)\n",
    "    ax.fill_between(df_82['N'], df_82[i]-df_82[i+'_sd'], \\\n",
    "                     df_82[i]+df_82[i+'_sd'], alpha=0.2)\n",
    "ax.set_xlabel('N')\n",
    "ax.set_ylabel('Binding Energies [MeV]')\n",
    "ax.set_title('Lead isotopes')\n",
    "ax.legend(loc='lower right')\n",
    "plt.show();"
   ]
  },
  {
   "cell_type": "markdown",
   "metadata": {},
   "source": [
    "Let's look at how the curve appears from the four different models. "
   ]
  },
  {
   "cell_type": "code",
   "execution_count": null,
   "metadata": {},
   "outputs": [],
   "source": [
    "ax.set_xlim(140,max(df_82['N']))\n",
    "ax.set_ylim(1675,1840)\n",
    "fig"
   ]
  },
  {
   "cell_type": "markdown",
   "metadata": {},
   "source": [
    "__Question__: The graph appears to have a wavy structure in the mean and uncertainties, regardless of the model used, across the values of $N$. Why do you think this is occurring?\n",
    "\n",
    "---\n",
    "---"
   ]
  },
  {
   "cell_type": "markdown",
   "metadata": {},
   "source": [
    "### *** Challenge time!! ***\n",
    "\n",
    "Now that you've got the data and have chosen an isotope to look at, try using BMM via Taweret's `Multivariate` class to mix the four models together and see what happens with the PPD and the weights. We outline a step-by-step process in the cells below to help you get started, but leave most of the coding up to you! Good luck!\n",
    "\n",
    "__Some tips:__\n",
    "- Your model wrapper class(es) must use all of the functions in the BaseModel class, since it is an abstract base class, even if they are not implemented, so make sure to define all of the models\n",
    "- Taweret requires arrays when using Multivariate, so you'll need to convert your dataframe columns into numpy arrays using `to_numpy()`\n",
    "- Taweret's BaseModel `evaluate` function requires you to send in the input space array even if it is not directly being used, so don't forget to make that an argument in your `evaluate` function\n",
    "- Plot the individual models along with the PPD so you can tell which models are favoured in which region of the input space"
   ]
  },
  {
   "cell_type": "code",
   "execution_count": null,
   "metadata": {},
   "outputs": [],
   "source": [
    "# step 1: write four (or one, depending on how creative you are) models that \n",
    "# Taweret will be able to use to obtain the mean and standard deviation \n",
    "# for the model across the number of neutrons\n",
    "\n",
    "### YOUR CODE HERE ###"
   ]
  },
  {
   "cell_type": "code",
   "execution_count": null,
   "metadata": {},
   "outputs": [],
   "source": [
    "# step 2: create a dict of the four models for Taweret\n",
    "\n",
    "### YOUR CODE HERE ###"
   ]
  },
  {
   "cell_type": "code",
   "execution_count": null,
   "metadata": {},
   "outputs": [],
   "source": [
    "# step 3: use Taweret to mix the four models through the `Multivariate` class\n",
    "\n",
    "### YOUR CODE HERE ###"
   ]
  },
  {
   "cell_type": "code",
   "execution_count": null,
   "metadata": {},
   "outputs": [],
   "source": [
    "# step 4: plot the PPD result and interpret it\n",
    "\n",
    "### YOUR CODE HERE ###"
   ]
  },
  {
   "cell_type": "markdown",
   "metadata": {},
   "source": [
    "__Question__: What does your PPD result look like? What model is considered the best in which region? Do the uncertainty bands look more reasonable than just using one of the models across the space? Compare with the individual models' uncertainty bands. "
   ]
  },
  {
   "cell_type": "code",
   "execution_count": null,
   "metadata": {},
   "outputs": [],
   "source": [
    "# step 5: plot the weights of each model using Taweret's `Multivariate`\n",
    "# class functions and interpret them\n",
    "\n",
    "### YOUR CODE HERE ###"
   ]
  },
  {
   "cell_type": "markdown",
   "metadata": {},
   "source": [
    "__Question__: Do the weights make sense based on the result you obtained for the PPD?"
   ]
  },
  {
   "cell_type": "markdown",
   "metadata": {},
   "source": [
    "---\n",
    "## Concluding questions and exercises\n",
    "\n",
    "1. What are some improvements you could make on the PPD you got from mixing the models you have currently? \n",
    "2. Try a different element other than lead. How different is the PPD for that element compared to the one you obtained for lead? How do the weights of each model change? Are other models favoured in regions where they were not for lead? Why could this be? \n",
    "3. If you're feeling up to it, look into the models we're using and why they might work better in certain regions of the nuclear chart compared to others.\n",
    "4. If you're super curious, try fixing a neutron value instead of a proton value and seeing how the results of this project change."
   ]
  },
  {
   "cell_type": "markdown",
   "metadata": {},
   "source": [
    "---\n",
    "---\n",
    "\n",
    "Exercise written by: Alexandra Semposki\n",
    "\n",
    "Nuclear masses provided by: Rahul Jain"
   ]
  }
 ],
 "metadata": {
  "colab": {
   "gpuType": "T4",
   "provenance": [],
   "toc_visible": true
  },
  "gpuClass": "standard",
  "kernelspec": {
   "display_name": "Python 3 (ipykernel)",
   "language": "python",
   "name": "python3"
  },
  "language_info": {
   "codemirror_mode": {
    "name": "ipython",
    "version": 3
   },
   "file_extension": ".py",
   "mimetype": "text/x-python",
   "name": "python",
   "nbconvert_exporter": "python",
   "pygments_lexer": "ipython3",
   "version": "3.10.8"
  }
 },
 "nbformat": 4,
 "nbformat_minor": 1
}
